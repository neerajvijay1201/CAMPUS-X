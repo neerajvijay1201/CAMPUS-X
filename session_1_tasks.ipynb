{
  "nbformat": 4,
  "nbformat_minor": 0,
  "metadata": {
    "colab": {
      "provenance": [],
      "include_colab_link": true
    },
    "kernelspec": {
      "name": "python3",
      "display_name": "Python 3"
    },
    "language_info": {
      "name": "python"
    }
  },
  "cells": [
    {
      "cell_type": "markdown",
      "metadata": {
        "id": "view-in-github",
        "colab_type": "text"
      },
      "source": [
        "<a href=\"https://colab.research.google.com/github/neerajvijay1201/CAMPUS-X/blob/main/session_1_tasks.ipynb\" target=\"_parent\"><img src=\"https://colab.research.google.com/assets/colab-badge.svg\" alt=\"Open In Colab\"/></a>"
      ]
    },
    {
      "cell_type": "markdown",
      "source": [
        "# Task : Session 1\n",
        "Solve these questions own your own and try to test yourself what you have learned in the session.\n",
        "\n",
        "Happy Learning!"
      ],
      "metadata": {
        "id": "A05OG15VqOPF"
      }
    },
    {
      "cell_type": "markdown",
      "source": [
        "### Q1 :- Print the given strings as per stated format.\n",
        "\n",
        "**Given strings**:\n",
        "```\n",
        "\"Data\" \"Science\" \"Mentorship\" \"Program\"\n",
        "\"By\" \"CampusX\"\n",
        "```\n",
        "**Output**:\n",
        "```\n",
        "Data-Science-Mentorship-Program-started-By-CampusX\n",
        "```\n",
        "\n",
        "Concept- [Seperator and End]"
      ],
      "metadata": {
        "id": "2doIXf8bqe9_"
      }
    },
    {
      "cell_type": "code",
      "source": [
        "print(\"Data\",\"-\", \"Science\",\"-\", \"Mentorship\",\"-\", \"Program\",\"-\", \"By\",\"-\", \"CampusX\")"
      ],
      "metadata": {
        "id": "-em6d3KErDtp",
        "outputId": "69892fef-52cc-448f-d4ab-985f95c4eac0",
        "colab": {
          "base_uri": "https://localhost:8080/"
        }
      },
      "execution_count": 1,
      "outputs": [
        {
          "output_type": "stream",
          "name": "stdout",
          "text": [
            "Data - Science - Mentorship - Program - By - CampusX\n"
          ]
        }
      ]
    },
    {
      "cell_type": "markdown",
      "source": [
        "### Q2:- Write a program that will convert celsius value to fahrenheit."
      ],
      "metadata": {
        "id": "1KUpN7ZTrC3_"
      }
    },
    {
      "cell_type": "code",
      "source": [
        "C=float(input(\"enter value of degree celsius\"))\n",
        "F=(9/5)*C+32\n",
        "print(\"The value of Fahrenheit is equal\",F)"
      ],
      "metadata": {
        "id": "yxKYhYQiqWfj",
        "outputId": "bff48ec3-7f25-452b-a55d-a27c6e6cac3b",
        "colab": {
          "base_uri": "https://localhost:8080/"
        }
      },
      "execution_count": 5,
      "outputs": [
        {
          "output_type": "stream",
          "name": "stdout",
          "text": [
            "enter value of degree celsius23\n",
            "The value of Fahrenheit is equal 73.4\n"
          ]
        }
      ]
    },
    {
      "cell_type": "markdown",
      "source": [
        "### Q3:- Take 2 numbers as input from the user.Write a program to swap the numbers without using any special python syntax."
      ],
      "metadata": {
        "id": "RLrOBBJurLB2"
      }
    },
    {
      "cell_type": "code",
      "source": [
        "a=int(input(\"enter a :\"))\n",
        "b=int(input(\"enter b :\"))\n",
        "a,b=b,a\n",
        "print(\"The value of a is\",a)\n",
        "print(\"The value of b is\",b)"
      ],
      "metadata": {
        "id": "yPn7if0TrJ4F",
        "outputId": "5a252d82-0e41-4ea6-dcef-0dab3327b84a",
        "colab": {
          "base_uri": "https://localhost:8080/"
        }
      },
      "execution_count": 9,
      "outputs": [
        {
          "output_type": "stream",
          "name": "stdout",
          "text": [
            "enter a :1\n",
            "enter b :2\n",
            "The value of a is 2\n",
            "The value of b is 1\n"
          ]
        }
      ]
    },
    {
      "cell_type": "markdown",
      "source": [
        "### Q4:- Write a program to find the euclidean distance between two coordinates.Take both the coordinates from the user as input."
      ],
      "metadata": {
        "id": "waLCP1bjr7ML"
      }
    },
    {
      "cell_type": "code",
      "source": [
        "x1=int(input(\"enter value of x1=\"))\n",
        "x2=int(input(\"enter value of x2=\"))\n",
        "y1=int(input(\"enter value of y1=\"))\n",
        "y2=int(input(\"enter value of y2=\"))\n",
        "distance=((x2-x1)**2+(y2-y1)**2)**0.5\n",
        "print(\" eucleidian distance is equal to\",distance)"
      ],
      "metadata": {
        "id": "Pl1Sv-xnrxnH",
        "outputId": "088b5b5f-1e16-46d1-aaa4-ac0253c0044d",
        "colab": {
          "base_uri": "https://localhost:8080/"
        }
      },
      "execution_count": 12,
      "outputs": [
        {
          "output_type": "stream",
          "name": "stdout",
          "text": [
            "enter value of x1=1\n",
            "enter value of x2=2\n",
            "enter value of y1=3\n",
            "enter value of y2=5\n",
            " eucleidian distance is equal to 2.23606797749979\n"
          ]
        }
      ]
    },
    {
      "cell_type": "markdown",
      "source": [
        "### Q5:- Write a program to find the simple interest when the value of principle,rate of interest and time period is provided by the user.\n"
      ],
      "metadata": {
        "id": "VLrhg-FRsHjR"
      }
    },
    {
      "cell_type": "markdown",
      "source": [],
      "metadata": {
        "id": "tFltnx4nPQuD"
      }
    },
    {
      "cell_type": "code",
      "source": [
        "p=int(input(\"enter value of priciple amount=\"))\n",
        "r=int(input(\"enter value of rate of interest=\"))\n",
        "t=int(input(\"enter value of time period=\"))\n",
        "SI=(p*r*t)/100\n",
        "print(\"The simple interest value is equal to\",SI)"
      ],
      "metadata": {
        "id": "s40DlReZsTmY",
        "outputId": "108f0b1f-67a3-4c97-c64c-bc831dad6cfd",
        "colab": {
          "base_uri": "https://localhost:8080/"
        }
      },
      "execution_count": 15,
      "outputs": [
        {
          "output_type": "stream",
          "name": "stdout",
          "text": [
            "enter value of priciple amount=50000\n",
            "enter value of rate of interest=5\n",
            "enter value of time period=5\n",
            "The simple interest value is equal to 12500.0\n"
          ]
        }
      ]
    },
    {
      "cell_type": "markdown",
      "source": [
        "### Q6:- Write a program that will tell the number of dogs and chicken are there when the user will provide the value of total heads and legs.\n",
        "\n",
        "For example:\n",
        "Input:\n",
        "heads -> 4\n",
        "legs -> 12\n",
        "<br>\n",
        "Output:\n",
        "dogs -> 2\n",
        "chicken -> 2\n",
        "\n",
        "\n",
        "\n"
      ],
      "metadata": {
        "id": "LMy0BTUktYKa"
      }
    },
    {
      "cell_type": "code",
      "source": [
        "heads=int(input(\"enter value of heads=\"))\n",
        "legs=int(input(\"enter value of legs=\"))\n",
        "chickens = 2 * heads - legs / 2\n",
        "dogs = heads - chickens\n",
        "print(\"number of chickens is equal to \",int(chickens))\n",
        "print(\"number of dogs is equal to \",int(dogs))"
      ],
      "metadata": {
        "id": "XSBvJoA4tXaG",
        "outputId": "f0e7cdf1-a145-4531-aa58-6ec9b16d2ea2",
        "colab": {
          "base_uri": "https://localhost:8080/"
        }
      },
      "execution_count": 19,
      "outputs": [
        {
          "output_type": "stream",
          "name": "stdout",
          "text": [
            "enter value of heads=4\n",
            "enter value of legs=12\n",
            "number of chickens is equal to  2\n",
            "number of dogs is equal to  2\n"
          ]
        }
      ]
    },
    {
      "cell_type": "markdown",
      "source": [
        "### Q7:- Write a program to find the sum of squares of first n natural numbers where n will be provided by the user."
      ],
      "metadata": {
        "id": "gJ7C5kZYt4BP"
      }
    },
    {
      "cell_type": "code",
      "source": [
        "n=int(input(\"enter value of n =\"))\n",
        "sum_number= n*(n+1)*(2*n+1)/6\n",
        "print(\"The sum of squares of first n natural number is\",int(sum_number))"
      ],
      "metadata": {
        "id": "_tHsmEHzt2nX",
        "outputId": "b8c4aaa3-ffc9-4e2c-d72b-ad705de2a3f8",
        "colab": {
          "base_uri": "https://localhost:8080/"
        }
      },
      "execution_count": 25,
      "outputs": [
        {
          "output_type": "stream",
          "name": "stdout",
          "text": [
            "enter value of n =5\n",
            "The sum of squares of first n natural number is 55\n"
          ]
        }
      ]
    },
    {
      "cell_type": "markdown",
      "source": [
        "### Q8:- Given the first 2 terms of an Arithmetic Series.Find the Nth term of the series. Assume all inputs are provided by the user."
      ],
      "metadata": {
        "id": "FHrMM7g-yG1h"
      }
    },
    {
      "cell_type": "code",
      "source": [
        "a1=int(input(\"enter first term a1 =\"))\n",
        "a2=int(input(\"enter first term a2=\"))\n",
        "n=int(input(\"enter value of number of terms n =\"))\n",
        "d=a2-a1\n",
        "an=a+(n-1)*d\n",
        "print(\"The nth term of series is equal to\",int(an))"
      ],
      "metadata": {
        "id": "go4_kmZmyVSx",
        "outputId": "ce0f5213-b868-4ef8-bcde-00498f9ffdaa",
        "colab": {
          "base_uri": "https://localhost:8080/"
        }
      },
      "execution_count": 27,
      "outputs": [
        {
          "output_type": "stream",
          "name": "stdout",
          "text": [
            "enter first term a1 =2\n",
            "enter first term a2=5\n",
            "enter value of number of terms n =23\n",
            "The nth term of series is equal to 68\n"
          ]
        }
      ]
    },
    {
      "cell_type": "markdown",
      "source": [
        "### Q9:- Given 2 fractions, find the sum of those 2 fractions.Take the numerator and denominator values of the fractions from the user."
      ],
      "metadata": {
        "id": "QgyRX_es1oum"
      }
    },
    {
      "cell_type": "code",
      "source": [
        "from re import S\n",
        "num_1=int(input(\"enter first numerator value =\"))\n",
        "num_2=int(input(\"enter second numerator value =\"))\n",
        "deno_1=int(input(\"enter first denominator value =\"))\n",
        "deno_2=int(input(\"enter first denominator value =\"))\n",
        "summation=(num_1/deno_1)+(num_2/deno_2)\n",
        "print(\"The sum of two fraction is equal to \",float(summation))\n"
      ],
      "metadata": {
        "id": "X05xqFS1yW16",
        "outputId": "7116824e-e28e-4925-b18d-02812630619c",
        "colab": {
          "base_uri": "https://localhost:8080/"
        }
      },
      "execution_count": 29,
      "outputs": [
        {
          "output_type": "stream",
          "name": "stdout",
          "text": [
            "enter first numerator value =1\n",
            "enter second numerator value =2\n",
            "enter first denominator value =5\n",
            "enter first denominator value =2\n",
            "The sum of two fraction is equal to  1.2\n"
          ]
        }
      ]
    },
    {
      "cell_type": "markdown",
      "source": [
        "### Q10:- Given the height, width and breadth of a milk tank, you have to find out how many glasses of milk can be obtained? Assume all the inputs are provided by the user.\n",
        "\n",
        "\n",
        "\n",
        "Input:<br>\n",
        "Dimensions of the milk tank<br>\n",
        "H = 20cm, L = 20cm, B = 20cm\n",
        "<br><br>\n",
        "Dimensions of the glass<br>\n",
        "h = 3cm, r = 1cm"
      ],
      "metadata": {
        "id": "eaql38ln13u7"
      }
    },
    {
      "cell_type": "code",
      "source": [
        "# dimension for tank\n",
        "H=int(input(\"enter value of height(cm) =\"))\n",
        "L=int(input(\"enter value of length(cm) =\"))\n",
        "B=int(input(\"enter value of breath(cm) =\"))\n",
        "Vol_tank=L*B*H\n",
        "print(\"The total volume of milk in tank(cm3)\",Vol_tank)\n",
        "# dimension for glass its cylinderical shape\n",
        "h=int(input(\"enter value of height of glass(cm) =\"))\n",
        "r=int(input(\"enter value of radius of glass(cm) =\"))\n",
        "Vol_glass=3.14*(r**2)*h\n",
        "print(\"The volume(cm3) of glass of milk is equal to\",Vol_glass)\n",
        "num_glass= Vol_tank/Vol_glass\n",
        "print(\"the number of glass of milk is equal to\",int(num_glass))"
      ],
      "metadata": {
        "id": "FePZqno74eWv",
        "outputId": "544e9095-0b65-4800-e0b9-7222e0b24fc1",
        "colab": {
          "base_uri": "https://localhost:8080/"
        }
      },
      "execution_count": 32,
      "outputs": [
        {
          "output_type": "stream",
          "name": "stdout",
          "text": [
            "enter value of height(cm) =20\n",
            "enter value of length(cm) =20\n",
            "enter value of breath(cm) =20\n",
            "The total volume of milk in tank(cm3) 8000\n",
            "enter value of height of glass(cm) =3\n",
            "enter value of radius of glass(cm) =1\n",
            "The volume(cm3) of glass of milk is equal to 9.42\n",
            "the number of glass of milk is equal to 849\n"
          ]
        }
      ]
    },
    {
      "cell_type": "code",
      "source": [
        "2"
      ],
      "metadata": {
        "id": "CTWKRAVGZRXv"
      },
      "execution_count": null,
      "outputs": []
    }
  ]
}